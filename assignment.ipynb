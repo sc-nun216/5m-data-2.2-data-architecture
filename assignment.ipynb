{
 "cells": [
  {
   "cell_type": "markdown",
   "id": "37178cc2",
   "metadata": {},
   "source": [
    "# Assignment\n",
    "\n",
    "## Brief\n",
    "\n",
    "Write the Python codes for the following questions.\n",
    "\n",
    "## Instructions\n",
    "\n",
    "Paste the answer as Python in the answer code section below each question.\n",
    "\n",
    "### Question 1\n",
    "\n",
    "Question: How would you create a new hash in Redis to store information about a person, with `john_doe` as the key and include the name (`John Doe`), age (`35`), and email address (`john@email.com`)?"
   ]
  },
  {
   "cell_type": "code",
   "execution_count": null,
   "id": "54ddd9c9",
   "metadata": {},
   "outputs": [],
   "source": [
    "import redis\n",
    "\n",
    "r = redis.Redis(\n",
    "    host='redis-18352.c11.us-east-1-3.ec2.redns.redis-cloud.com',\n",
    "    port=18352,\n",
    "    decode_responses=True,\n",
    "    username=\"default\",\n",
    "    password=\"zYs46SDsI9EHLUiwYgUQJM5wjC0Q5Qjdr\",\n",
    ")\n"
   ]
  },
  {
   "cell_type": "markdown",
   "id": "29a9c209",
   "metadata": {},
   "source": [
    "Answer:"
   ]
  },
  {
   "cell_type": "code",
   "execution_count": null,
   "id": "778ce029",
   "metadata": {},
   "outputs": [
    {
     "data": {
      "text/plain": [
       "3"
      ]
     },
     "execution_count": 12,
     "metadata": {},
     "output_type": "execute_result"
    }
   ],
   "source": [
    "r.hset(\n",
    "    \"john_doe\",\n",
    "    mapping={\n",
    "        \"name\": \"John Doe\", \n",
    "        \"age\": 35, \n",
    "        \"email\": \"john@email.com\"\n",
    "        }\n",
    "    )"
   ]
  },
  {
   "cell_type": "markdown",
   "id": "03e35b08",
   "metadata": {},
   "source": [
    "### Question 2\n",
    "\n",
    "Question: Write Python code to list the first 10 objects (blob name) in the \"gcp-public-data-landsat\" bucket, along with their sizes."
   ]
  },
  {
   "cell_type": "code",
   "execution_count": 14,
   "id": "beab6fcc",
   "metadata": {},
   "outputs": [],
   "source": [
    "from google.cloud import storage\n",
    "\n",
    "# Use anonymous client (for public access)\n",
    "client = storage.Client.create_anonymous_client()\n",
    "bucket = client.get_bucket(\"gcp-public-data-landsat\")"
   ]
  },
  {
   "cell_type": "markdown",
   "id": "1f419688",
   "metadata": {},
   "source": [
    "Answer:"
   ]
  },
  {
   "cell_type": "code",
   "execution_count": 26,
   "id": "092c2a10",
   "metadata": {},
   "outputs": [
    {
     "name": "stdout",
     "output_type": "stream",
     "text": [
      "Blobs in gcp-public-data-landsat:\n",
      "1. LC08/01/001/002/LC08_L1GT_001002_20160817_20170322_01_T2/LC08_L1GT_001002_20160817_20170322_01_T2_ANG.txt, 117255 bytes\n",
      "2. LC08/01/001/002/LC08_L1GT_001002_20160817_20170322_01_T2/LC08_L1GT_001002_20160817_20170322_01_T2_B1.TIF, 75085385 bytes\n",
      "3. LC08/01/001/002/LC08_L1GT_001002_20160817_20170322_01_T2/LC08_L1GT_001002_20160817_20170322_01_T2_B10.TIF, 40612836 bytes\n",
      "4. LC08/01/001/002/LC08_L1GT_001002_20160817_20170322_01_T2/LC08_L1GT_001002_20160817_20170322_01_T2_B11.TIF, 39267654 bytes\n",
      "5. LC08/01/001/002/LC08_L1GT_001002_20160817_20170322_01_T2/LC08_L1GT_001002_20160817_20170322_01_T2_B2.TIF, 76259448 bytes\n",
      "6. LC08/01/001/002/LC08_L1GT_001002_20160817_20170322_01_T2/LC08_L1GT_001002_20160817_20170322_01_T2_B3.TIF, 76813565 bytes\n",
      "7. LC08/01/001/002/LC08_L1GT_001002_20160817_20170322_01_T2/LC08_L1GT_001002_20160817_20170322_01_T2_B4.TIF, 78510140 bytes\n",
      "8. LC08/01/001/002/LC08_L1GT_001002_20160817_20170322_01_T2/LC08_L1GT_001002_20160817_20170322_01_T2_B5.TIF, 80344717 bytes\n",
      "9. LC08/01/001/002/LC08_L1GT_001002_20160817_20170322_01_T2/LC08_L1GT_001002_20160817_20170322_01_T2_B6.TIF, 76416634 bytes\n",
      "10. LC08/01/001/002/LC08_L1GT_001002_20160817_20170322_01_T2/LC08_L1GT_001002_20160817_20170322_01_T2_B7.TIF, 73888286 bytes\n"
     ]
    }
   ],
   "source": [
    "blobs = bucket.list_blobs()\n",
    "\n",
    "print(\"Blobs in {}:\".format(bucket.name))\n",
    "for i, blob in enumerate(blobs):\n",
    "    print(f\"{i+1}. {blob.name}, {blob.size} bytes\")\n",
    "    if i == 9:\n",
    "        break"
   ]
  },
  {
   "cell_type": "markdown",
   "id": "91b97cd3",
   "metadata": {},
   "source": [
    "## Submission\n",
    "\n",
    "- Submit the URL of the GitHub Repository that contains your work to NTU black board.\n",
    "- Should you reference the work of your classmate(s) or online resources, give them credit by adding either the name of your classmate or URL."
   ]
  }
 ],
 "metadata": {
  "jupytext": {
   "cell_metadata_filter": "-all",
   "main_language": "python",
   "notebook_metadata_filter": "-all"
  },
  "kernelspec": {
   "display_name": "bde",
   "language": "python",
   "name": "python3"
  },
  "language_info": {
   "codemirror_mode": {
    "name": "ipython",
    "version": 3
   },
   "file_extension": ".py",
   "mimetype": "text/x-python",
   "name": "python",
   "nbconvert_exporter": "python",
   "pygments_lexer": "ipython3",
   "version": "3.10.13"
  }
 },
 "nbformat": 4,
 "nbformat_minor": 5
}
